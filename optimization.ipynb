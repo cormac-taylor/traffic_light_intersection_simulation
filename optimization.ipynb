{
 "cells": [
  {
   "cell_type": "code",
   "execution_count": null,
   "id": "396a12a5",
   "metadata": {
    "vscode": {
     "languageId": "plaintext"
    }
   },
   "outputs": [],
   "source": [
    "import math\n",
    "\n",
    "# get largest solution\n",
    "# given: a and b are positive and c is negitive\n",
    "def solve_quadratic(a, b, c):\n",
    "    disc = b**2 - 4*a*c\n",
    "    assert disc >= 0\n",
    "    \n",
    "    x = (-b + math.sqrt(disc)) / (2*a)\n",
    "    assert x >= 0\n",
    "    return x\n",
    "\n",
    "def mps_to_mph(x):\n",
    "    return x * 3600 / 1609.34\n",
    "\n",
    "def m_to_ft(x):\n",
    "    return x * 3.28084\n",
    "\n",
    "# description:\n",
    "  # no-turn and no-lane-change intersection with traffic light\n",
    "# assume:\n",
    "  # infinite cars in queue\n",
    "  # \"through\" := car breaking the stop line's plane\n",
    "  # no variance (all drivers act perfectly average)\n",
    "def throughput_basic(speed_lim, t_green, yellow_mult, car_len, stop_spacing, go_threshold, acc):\n",
    "    # time\n",
    "    t_total = t_green + speed_lim * yellow_mult\n",
    "    t_to_speed_limit = speed_lim / acc\n",
    "    t_acc = min(t_to_speed_limit, t_total)\n",
    "    t_limit = t_total - t_acc\n",
    "    \n",
    "    # distance\n",
    "    d_car = stop_spacing + car_len\n",
    "    d_acc = (0.5 * acc * t_acc**2)\n",
    "    d_limit = speed_lim * t_limit\n",
    "\n",
    "    if stop_spacing >= go_threshold:\n",
    "        # enough space to accelerate immediately\n",
    "        # solved in distance\n",
    "        return math.ceil((d_acc + d_limit) / d_car)\n",
    "    else:\n",
    "        # must wait to accelerate\n",
    "        # solved in time\n",
    "        d_to_go_threshold = go_threshold - stop_spacing    \n",
    "        a = (2 * d_to_go_threshold) / acc\n",
    "        b = (2 * d_car) / acc\n",
    "        c = - t_total ** 2\n",
    "        return math.ceil(solve_quadratic(a, b, c))\n"
   ]
  },
  {
   "cell_type": "code",
   "execution_count": null,
   "id": "93c92125",
   "metadata": {
    "vscode": {
     "languageId": "plaintext"
    }
   },
   "outputs": [],
   "source": [
    "speed_limit = 11                # m/s\n",
    "green_time = 30                 # s\n",
    "yellow_time_multiple = 0.25     # s^2/m\n",
    "car_length = 5                  # m\n",
    "stopped_car_spacing = 2.5       # m\n",
    "go_threshold = 6                # m\n",
    "acceleration = 2                # m/s^2\n",
    "\n",
    "throughput_basic(speed_limit, green_time, yellow_time_multiple, car_length, stopped_car_spacing, go_threshold, acceleration)"
   ]
  }
 ],
 "metadata": {
  "language_info": {
   "name": "python"
  }
 },
 "nbformat": 4,
 "nbformat_minor": 5
}
